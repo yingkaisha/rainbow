{
 "cells": [
  {
   "cell_type": "code",
   "execution_count": 1,
   "metadata": {},
   "outputs": [],
   "source": [
    "import sys\n",
    "import time\n",
    "import os.path\n",
    "from glob import glob\n",
    "from datetime import datetime, timedelta\n",
    "\n",
    "# data tools\n",
    "import h5py\n",
    "import numpy as np\n",
    "import pandas as pd\n",
    "\n",
    "# custom tools\n",
    "sys.path.insert(0, '/glade/u/home/ksha/WORKSPACE/utils/')\n",
    "sys.path.insert(0, '/glade/u/home/ksha/WORKSPACE/Analog_BC/')\n",
    "sys.path.insert(0, '/glade/u/home/ksha/WORKSPACE/Analog_BC/utils/')\n",
    "\n",
    "import data_utils as du\n",
    "import graph_utils as gu\n",
    "\n",
    "from namelist import *"
   ]
  },
  {
   "cell_type": "code",
   "execution_count": 2,
   "metadata": {},
   "outputs": [],
   "source": [
    "import warnings\n",
    "warnings.filterwarnings(\"ignore\")"
   ]
  },
  {
   "cell_type": "code",
   "execution_count": 3,
   "metadata": {},
   "outputs": [],
   "source": [
    "# graph tools\n",
    "import cmaps\n",
    "import cartopy.crs as ccrs\n",
    "import cartopy.mpl.geoaxes\n",
    "import cartopy.feature as cfeature\n",
    "from cartopy.io.shapereader import Reader\n",
    "from cartopy.feature import ShapelyFeature\n",
    "from cartopy.mpl.gridliner import LONGITUDE_FORMATTER, LATITUDE_FORMATTER\n",
    "\n",
    "import matplotlib.pyplot as plt\n",
    "import matplotlib.lines as mlines\n",
    "import matplotlib.colors as colors\n",
    "import matplotlib.patches as patches\n",
    "from matplotlib.collections import PatchCollection\n",
    "\n",
    "from matplotlib import ticker\n",
    "import matplotlib.ticker as mticker\n",
    "import matplotlib.gridspec as gridspec\n",
    "from mpl_toolkits.axes_grid1.inset_locator import inset_axes\n",
    "\n",
    "%matplotlib inline"
   ]
  },
  {
   "cell_type": "code",
   "execution_count": 4,
   "metadata": {},
   "outputs": [],
   "source": [
    "need_publish = False\n",
    "\n",
    "# True: publication quality figures\n",
    "# False: low resolution figures in the notebook\n",
    "\n",
    "if need_publish:\n",
    "    dpi_ = fig_keys['dpi']\n",
    "else:\n",
    "    dpi_ = 75"
   ]
  },
  {
   "cell_type": "code",
   "execution_count": null,
   "metadata": {},
   "outputs": [],
   "source": []
  },
  {
   "cell_type": "code",
   "execution_count": 5,
   "metadata": {},
   "outputs": [],
   "source": [
    "with h5py.File(save_dir+'US_domain_info.hdf', 'r') as h5io:\n",
    "    lon_4km_US = h5io['lon_4km'][...]\n",
    "    lat_4km_US = h5io['lat_4km'][...]\n",
    "    etopo_4km_US = h5io['etopo_4km'][...]\n",
    "    land_mask_us_4km = h5io['land_mask_us'][...]\n",
    "    \n",
    "with h5py.File(save_dir+'BC_domain_info.hdf', 'r') as h5io:\n",
    "    lon_4km_BC = h5io['lon_4km'][...]\n",
    "    lat_4km_BC = h5io['lat_4km'][...]\n",
    "    etopo_4km_BC = h5io['etopo_4km'][...]\n",
    "    land_mask_bc_4km = h5io['land_mask_bc_4km'][...]\n",
    "    \n",
    "etopo_4km_US[land_mask_us_4km] = np.nan\n",
    "etopo_4km_BC[land_mask_bc_4km] = np.nan"
   ]
  },
  {
   "cell_type": "code",
   "execution_count": 6,
   "metadata": {},
   "outputs": [],
   "source": [
    "# Cartopy map settings\n",
    "scale_param = '50m' # 10m for publication quality\n",
    "# BC and Ca-US boundary\n",
    "PROVINCE = cfeature.NaturalEarthFeature(\n",
    "    category='cultural',\n",
    "    name='admin_1_states_provinces_lines',\n",
    "    scale=scale_param,\n",
    "    facecolor='none')\n",
    "shape_dir = fig_dir+'wshed_hires/MajorHydroWatershedsProject.shp'"
   ]
  },
  {
   "cell_type": "code",
   "execution_count": null,
   "metadata": {},
   "outputs": [],
   "source": []
  },
  {
   "cell_type": "code",
   "execution_count": 7,
   "metadata": {},
   "outputs": [
    {
     "name": "stdout",
     "output_type": "stream",
     "text": [
      "Selecting: United States of America\n"
     ]
    }
   ],
   "source": [
    "edge_BC = [lon_4km_BC.min()+11, -114, 48.1-2, 59.5+2]\n",
    "\n",
    "name_list = ['United States of America']\n",
    "geom_US = gu.get_country_geom(name_list)# maskout us\n",
    "\n",
    "cmap_pct, A = gu.precip_cmap()\n",
    "cmap_terrain = colors.ListedColormap(plt.cm.terrain(np.arange(48, 256)), 'temp_cmap')"
   ]
  },
  {
   "cell_type": "code",
   "execution_count": 8,
   "metadata": {},
   "outputs": [],
   "source": [
    "def domain_transfer_plot(size, edge, gap, IN_ETOPO, land_mask):\n",
    "    size_center = size-2*edge\n",
    "    grid_shape = land_mask.shape\n",
    "    Ny = int(np.ceil((grid_shape[0])/size_center))+1\n",
    "    Nx = int(np.ceil((grid_shape[1])/size_center))+1\n",
    "    grid_shape_pad = (Ny*(size_center)+2*edge, Nx*(size_center)+2*edge)\n",
    "    #\n",
    "    Px, Py = (grid_shape_pad[1]-grid_shape[1]-edge)//gap, (grid_shape_pad[0]-grid_shape[0]-edge)//gap\n",
    "    zero_pad = np.zeros((Px*Py,) + grid_shape_pad+(1,))*np.nan\n",
    "    count = 0\n",
    "    for i in range(Py):\n",
    "        for j in range(Px):\n",
    "            zero_pad[count, edge+gap*i:edge+gap*i+grid_shape[0], edge+gap*j:edge+gap*j+grid_shape[1], 0] = IN_ETOPO\n",
    "            count += 1\n",
    "    indx = np.arange(grid_shape_pad[1])\n",
    "    indy = np.arange(grid_shape_pad[0])\n",
    "    gridx, gridy = np.meshgrid(indx, indy)\n",
    "    \n",
    "    return gridx, gridy, zero_pad, Nx, Ny, size_center\n",
    "\n",
    "def ind_to_edge(lon, lat, subset_ind):\n",
    "    EDGE_x = np.array([lon[subset_ind[0], subset_ind[2]], \n",
    "                       lon[subset_ind[0], subset_ind[3]], \n",
    "                       lon[subset_ind[1], subset_ind[3]], \n",
    "                       lon[subset_ind[1], subset_ind[2]]])\n",
    "    EDGE_y = np.array([lat[subset_ind[0], subset_ind[2]], \n",
    "                       lat[subset_ind[0], subset_ind[3]], \n",
    "                       lat[subset_ind[1], subset_ind[3]], \n",
    "                       lat[subset_ind[1], subset_ind[2]]])\n",
    "    return EDGE_x, EDGE_y, np.array([[EDGE_x[0], EDGE_y[0]], \n",
    "                                     [EDGE_x[1], EDGE_y[1]], \n",
    "                                     [EDGE_x[2], EDGE_y[2]], \n",
    "                                     [EDGE_x[3], EDGE_y[3]]])"
   ]
  },
  {
   "cell_type": "code",
   "execution_count": 9,
   "metadata": {},
   "outputs": [],
   "source": [
    "size = 96; edge = 16; gap = 8; size_center = size-2*edge\n",
    "\n",
    "IN_ETOPO = np.copy(etopo_4km_BC)\n",
    "IN_ETOPO[IN_ETOPO<0] = 0\n",
    "IN_ETOPO[land_mask_bc_4km] = np.nan"
   ]
  },
  {
   "cell_type": "code",
   "execution_count": 10,
   "metadata": {},
   "outputs": [],
   "source": [
    "gridx_BC, gridy_BC, pad_BC, Nx_BC, Ny_BC, size_BC = domain_transfer_plot(96, edge, gap, IN_ETOPO, land_mask_bc_4km)"
   ]
  },
  {
   "cell_type": "code",
   "execution_count": 11,
   "metadata": {},
   "outputs": [],
   "source": [
    "def edge_gen(size, edge, N):\n",
    "    return size+(N-1)*(size-2*edge)-2*edge\n",
    "\n",
    "bc_e4 = edge_gen(size, edge, 4)\n",
    "bc_e7 = edge_gen(size, edge, 7)\n",
    "bc_e8 = edge_gen(size, edge, 8)"
   ]
  },
  {
   "cell_type": "code",
   "execution_count": 12,
   "metadata": {},
   "outputs": [
    {
     "data": {
      "image/png": "[encoded data removed]",
      "text/plain": [
       "<Figure size 936x360 with 2 Axes>"
      ]
     },
     "metadata": {
      "needs_background": "light"
     },
     "output_type": "display_data"
    }
   ],
   "source": [
    "fig = plt.figure(figsize=(13, 5.0))\n",
    "\n",
    "gs = gridspec.GridSpec(1, 2, width_ratios=[2.5, 1])\n",
    "ax = plt.subplot(gs[0, 0])\n",
    "ax2 = plt.subplot(gs[0, 1])\n",
    "plt.subplots_adjust(0, 0, 1, 1, hspace=0, wspace=0)\n",
    "\n",
    "CS = ax.pcolormesh(gridx_BC[bc_e7:-bc_e4, bc_e4:-bc_e8], gridy_BC[bc_e7:-bc_e4, bc_e4:-bc_e8], \n",
    "                   pad_BC[80, bc_e7:-bc_e4, bc_e4:-bc_e8, 0], vmin=0.001, vmax=1e4*2999.99, cmap=cmap_terrain)\n",
    "pad = 15\n",
    "ylim = [np.min(gridx_BC[bc_e7:-bc_e4, bc_e4:-bc_e8])-pad, np.max(gridx_BC[bc_e7:-bc_e4, bc_e4:-bc_e8])+pad]\n",
    "xlim = [np.min(gridy_BC[bc_e7:-bc_e4, bc_e4:-bc_e8])-pad, np.max(gridy_BC[bc_e7:-bc_e4, bc_e4:-bc_e8])+pad]\n",
    "\n",
    "ax.set_xlim(xlim)\n",
    "ax.set_xlim(ylim)\n",
    "ax.set_axis_off()\n",
    "\n",
    "for i in range(7, Ny_BC-4):\n",
    "    for j in range(4, Nx_BC-8):\n",
    "        \n",
    "        if i == 7 and j < 9:\n",
    "            continue\n",
    "        if i == 8 and j < 7:\n",
    "            continue\n",
    "        if i == 9 and j < 6:\n",
    "            continue\n",
    "        if i == 10 and j < 5:\n",
    "            continue\n",
    "        \n",
    "        if i >= 10 and j > 11:\n",
    "            continue\n",
    "        if i == 9 and j > 12:\n",
    "            continue\n",
    "        \n",
    "        indy_start = i*size_BC\n",
    "        indx_start = j*size_BC\n",
    "        indyc_start = indy_start+edge\n",
    "        indxc_start = indx_start+edge\n",
    "        \n",
    "        box_grid = [indy_start, indy_start+size-1, indx_start, indx_start+size-1]\n",
    "        _, _, points = ind_to_edge(gridx_BC, gridy_BC, box_grid)\n",
    "        boxes = PatchCollection([patches.Polygon(points)], facecolor='none', edgecolor='k', linestyle='-', linewidth=2.5, zorder=7)\n",
    "        ax.add_collection(boxes)\n",
    "        \n",
    "        boxc_grid = [indyc_start, indyc_start+size_BC, indxc_start, indxc_start+size_BC]\n",
    "        _, _, points = ind_to_edge(gridx_BC, gridy_BC, boxc_grid)\n",
    "        boxes = PatchCollection([patches.Polygon(points)], facecolor='none', edgecolor='k', linestyle=':', linewidth=2.5, zorder=7)\n",
    "        ax.add_collection(boxes)\n",
    "\n",
    "ax.text(0.5, 1.05, '(a) The tiled inference of attention UNET in BC', ha='center', va='top', fontsize=14, transform=ax.transAxes)\n",
    "C_fill = list(cmap_terrain(0))\n",
    "\n",
    "ax = ax2\n",
    "ax.set_xlim([-32, 160])\n",
    "ax.set_ylim([0, 256])\n",
    "ax.set_axis_off()\n",
    "\n",
    "for i in range(1):\n",
    "    for j in range(2):\n",
    "        \n",
    "        indy_start = i*size_BC; indx_start = j*size_BC\n",
    "        indyc_start = indy_start+edge; indxc_start = indx_start+edge\n",
    "        \n",
    "        box_grid = [indy_start, indy_start+size-1, indx_start, indx_start+size-1]\n",
    "        _, _, points = ind_to_edge(gridx_BC, gridy_BC, box_grid)\n",
    "        boxes = PatchCollection([patches.Polygon(points)], facecolor='none', edgecolor='k', linestyle='-', linewidth=3.5, zorder=1)\n",
    "        ax.add_collection(boxes)\n",
    "        \n",
    "        boxc_grid = [indyc_start, indyc_start+size_BC, indxc_start, indxc_start+size_BC]\n",
    "        _, _, points = ind_to_edge(gridx_BC, gridy_BC, boxc_grid)\n",
    "        boxes = PatchCollection([patches.Polygon(points)], edgecolor='k', facecolor=C_fill, linestyle=':', linewidth=3.5, zorder=2)\n",
    "        ax.add_collection(boxes)\n",
    "        \n",
    "        box_grid = [indy_start, indy_start+size-1, indx_start, indx_start+size-1]\n",
    "        _, _, points = ind_to_edge(gridx_BC, gridy_BC, box_grid)\n",
    "        boxes = PatchCollection([patches.Polygon(points)], facecolor='none', edgecolor='k', linestyle='-', linewidth=3.5, zorder=3)\n",
    "        ax.add_collection(boxes)\n",
    "\n",
    "ax2.text(76, 100, '(b) Feature map tiling', ha='center', va='bottom', fontsize=14)    \n",
    "ax2.text(-12, 48, '96', fontsize=16, rotation='vertical', ha='center', va='center', zorder=4)        \n",
    "ax2.arrow(-12, 48+28, 0, 14, width=1.5, fc='k', ec='k', zorder=4)\n",
    "ax2.arrow(-12, 48-28, 0, -14, width=1.5, fc='k', ec='k', zorder=4)\n",
    "ax2.text(28, 48, '64', fontsize=16, rotation='vertical', ha='center', va='center', zorder=4)      \n",
    "ax2.arrow(28, 48+20, 0, 5.75, width=1.5, fc='k', ec='k', zorder=4)\n",
    "ax2.arrow(28, 48-20, 0, -5.75, width=1.5, fc='k', ec='k', zorder=4)\n",
    "\n",
    "if need_publish:\n",
    "    # Save figure\n",
    "    fig.savefig(fig_dir+'DSCALE_inference.png', format='png', **fig_keys)"
   ]
  },
  {
   "cell_type": "code",
   "execution_count": null,
   "metadata": {},
   "outputs": [],
   "source": []
  }
 ],
 "metadata": {
  "kernelspec": {
   "display_name": "Python 3",
   "language": "python",
   "name": "python3"
  },
  "language_info": {
   "codemirror_mode": {
    "name": "ipython",
    "version": 3
   },
   "file_extension": ".py",
   "mimetype": "text/x-python",
   "name": "python",
   "nbconvert_exporter": "python",
   "pygments_lexer": "ipython3",
   "version": "3.6.8"
  }
 },
 "nbformat": 4,
 "nbformat_minor": 4
}
