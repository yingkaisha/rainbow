{
 "cells": [
  {
   "cell_type": "markdown",
   "metadata": {},
   "source": [
    "# Checking the improvement of AnEn-CNN hybrid"
   ]
  },
  {
   "cell_type": "code",
   "execution_count": 1,
   "metadata": {},
   "outputs": [],
   "source": [
    "import sys\n",
    "from glob import glob\n",
    "from datetime import datetime, timedelta\n",
    "\n",
    "# data tools\n",
    "import h5py\n",
    "import numpy as np\n",
    "\n",
    "# custom tools\n",
    "sys.path.insert(0, '/glade/u/home/ksha/WORKSPACE/utils/')\n",
    "sys.path.insert(0, '/glade/u/home/ksha/WORKSPACE/Analog_BC/')\n",
    "sys.path.insert(0, '/glade/u/home/ksha/WORKSPACE/Analog_BC/utils/')\n",
    "sys.path.insert(0, '/glade/u/home/ksha/PUBLISH/fcstpp/')\n",
    "\n",
    "from fcstpp import metrics\n",
    "import analog_utils as ana\n",
    "import graph_utils as gu\n",
    "import data_utils as du\n",
    "\n",
    "from namelist import * "
   ]
  },
  {
   "cell_type": "code",
   "execution_count": 2,
   "metadata": {},
   "outputs": [],
   "source": [
    "import matplotlib.pyplot as plt\n",
    "%matplotlib inline\n",
    "\n",
    "import warnings\n",
    "warnings.filterwarnings(\"ignore\")"
   ]
  },
  {
   "cell_type": "markdown",
   "metadata": {},
   "source": [
    "# Importing data"
   ]
  },
  {
   "cell_type": "code",
   "execution_count": 3,
   "metadata": {},
   "outputs": [],
   "source": [
    "prefix_cnn = 'BASE_CNN'\n",
    "prefix_ens = 'BASE_final_SS'\n",
    "\n",
    "EN = 25\n",
    "year = 2017\n",
    "lead = 10"
   ]
  },
  {
   "cell_type": "code",
   "execution_count": 4,
   "metadata": {},
   "outputs": [],
   "source": [
    "# land_mask and water shed\n",
    "with h5py.File(save_dir+'BC_domain_info.hdf', 'r') as h5io:\n",
    "    land_mask_bc = h5io['land_mask_bc'][...]\n",
    "grid_shape = land_mask_bc.shape\n",
    "\n",
    "with h5py.File(save_dir+'BCH_wshed_groups.hdf', 'r') as h5io:\n",
    "    flag_sw = h5io['flag_sw'][...]\n",
    "    flag_si = h5io['flag_si'][...]\n",
    "    flag_n = h5io['flag_n'][...]\n",
    "    \n",
    "FLAGs = (flag_sw, flag_si, flag_n)"
   ]
  },
  {
   "cell_type": "code",
   "execution_count": 5,
   "metadata": {},
   "outputs": [],
   "source": [
    "# Ours\n",
    "with h5py.File(REFCST_dir+'{}_{}_lead{}.hdf'.format(prefix_cnn, year, lead), 'r') as h5io:\n",
    "    AnEn_fit = h5io['cnn_pred'][...]\n",
    "AnEn_fit = ana.cnn_precip_fix(AnEn_fit)\n",
    "\n",
    "# AnEn (Hamill 2015)\n",
    "with h5py.File(REFCST_dir+'{}_{}_lead{}.hdf'.format(prefix_ens, year, lead), 'r') as h5io:\n",
    "    AnEn_full_ = h5io['AnEn'][:, :EN, ...]\n",
    "    \n",
    "AnEn_full = np.empty((365, EN)+grid_shape); AnEn_full[...] = np.nan\n",
    "AnEn_full[..., ~land_mask_bc] = AnEn_full_"
   ]
  },
  {
   "cell_type": "code",
   "execution_count": 6,
   "metadata": {},
   "outputs": [],
   "source": [
    "# Observations\n",
    "with h5py.File(save_dir+'BCH_ERA5_3H_verif.hdf', 'r') as h5io:\n",
    "    BCH_obs = h5io['BCH_obs'][...]\n",
    "    ERA5_obs = h5io['ERA5_obs'][...]\n",
    "    indx = h5io['indx'][...]\n",
    "    indy = h5io['indy'][...]\n",
    "    \n",
    "# subsetting BCH obs into a given year\n",
    "N_days = 366 + 365*3\n",
    "date_base = datetime(2016, 1, 1)\n",
    "date_list = [date_base + timedelta(days=x) for x in np.arange(N_days, dtype=np.float)]\n",
    "\n",
    "flag_pick = []\n",
    "for date in date_list:\n",
    "    if date.year == year:\n",
    "        flag_pick.append(True)\n",
    "    else:\n",
    "        flag_pick.append(False)\n",
    "\n",
    "flag_pick = np.array(flag_pick)\n",
    "    \n",
    "BCH_obs = BCH_obs[flag_pick, ...] # <----- Verify against BCH\n",
    "ERA5_obs = ERA5_obs[flag_pick, ...]"
   ]
  },
  {
   "cell_type": "code",
   "execution_count": null,
   "metadata": {},
   "outputs": [],
   "source": []
  },
  {
   "cell_type": "markdown",
   "metadata": {},
   "source": [
    "# Deterministic scores"
   ]
  },
  {
   "cell_type": "code",
   "execution_count": 7,
   "metadata": {},
   "outputs": [
    {
     "name": "stdout",
     "output_type": "stream",
     "text": [
      "0.40996925208511475\n",
      "0.43240568744661045\n"
     ]
    }
   ],
   "source": [
    "cnn_mean = np.nanmean(AnEn_fit, axis=1)\n",
    "AnEn_mean = np.nanmean(AnEn_full, axis=1)\n",
    "\n",
    "cnn_mean_stn = cnn_mean[:, indx, indy]\n",
    "AnEn_mean_stn = AnEn_mean[:, indx, indy]\n",
    "\n",
    "print(np.nanmean(np.abs(BCH_obs[:, lead, :]-cnn_mean_stn)))\n",
    "print(np.nanmean(np.abs(BCH_obs[:, lead, :]-AnEn_mean_stn)))"
   ]
  },
  {
   "cell_type": "code",
   "execution_count": 8,
   "metadata": {},
   "outputs": [
    {
     "data": {
      "text/plain": [
       "0.16953963952884613"
      ]
     },
     "execution_count": 8,
     "metadata": {},
     "output_type": "execute_result"
    }
   ],
   "source": [
    "ytrue = BCH_obs[:, lead, :]>1.4\n",
    "ypred = cnn_mean_stn>1.4\n",
    "\n",
    "ytrue[np.isnan(BCH_obs[:, lead, :])] = np.nan\n",
    "\n",
    "metrics.ETS(ytrue.ravel(), ypred.ravel())"
   ]
  },
  {
   "cell_type": "code",
   "execution_count": 9,
   "metadata": {},
   "outputs": [
    {
     "data": {
      "text/plain": [
       "0.1489465563253799"
      ]
     },
     "execution_count": 9,
     "metadata": {},
     "output_type": "execute_result"
    }
   ],
   "source": [
    "ytrue = BCH_obs[:, lead, :]>1.4\n",
    "ypred = AnEn_mean_stn>1.4\n",
    "\n",
    "ytrue[np.isnan(BCH_obs[:, lead, :])] = np.nan\n",
    "\n",
    "metrics.ETS(ytrue.ravel(), ypred.ravel())"
   ]
  },
  {
   "cell_type": "markdown",
   "metadata": {},
   "source": [
    "# Ensemble scores"
   ]
  },
  {
   "cell_type": "code",
   "execution_count": 10,
   "metadata": {},
   "outputs": [],
   "source": [
    "AnEn_fit_stn = AnEn_fit[..., indx, indy]\n",
    "AnEn_full_stn = AnEn_full[..., indx, indy]"
   ]
  },
  {
   "cell_type": "code",
   "execution_count": 11,
   "metadata": {},
   "outputs": [
    {
     "name": "stdout",
     "output_type": "stream",
     "text": [
      "CRPS: 0.29295719242190377, 0.3135904969737336\n",
      "MAE: 0.5094635188364008, 0.49256064449639714\n",
      "SPREAD: 0.21650632641449696, 0.17897014752266355\n"
     ]
    }
   ],
   "source": [
    "CRPS_fit, MAE_fit, SPREAD_fit = metrics.CRPS_1d_nan(BCH_obs[:, lead, :], AnEn_fit_stn[...])\n",
    "CRPS_stn, MAE_stn, SPREAD_stn = metrics.CRPS_1d_nan(BCH_obs[:, lead, :], AnEn_full_stn[...])\n",
    "\n",
    "print('CRPS: {}, {}'.format(np.nanmean(CRPS_fit), np.nanmean(CRPS_stn)))\n",
    "print('MAE: {}, {}'.format(np.nanmean(MAE_fit), np.nanmean(MAE_stn)))\n",
    "print('SPREAD: {}, {}'.format(np.nanmean(SPREAD_fit), np.nanmean(SPREAD_stn)))"
   ]
  },
  {
   "cell_type": "code",
   "execution_count": 12,
   "metadata": {},
   "outputs": [
    {
     "name": "stdout",
     "output_type": "stream",
     "text": [
      "0.40996925208511475\n",
      "0.43240568744661045\n"
     ]
    }
   ],
   "source": [
    "print(np.nanmean(np.abs(BCH_obs[:, lead, :]-np.nanmean(AnEn_fit_stn, axis=1))))\n",
    "print(np.nanmean(np.abs(BCH_obs[:, lead, :]-np.nanmean(AnEn_full_stn, axis=1))))"
   ]
  },
  {
   "cell_type": "markdown",
   "metadata": {},
   "source": [
    "# Exploratory data analysis"
   ]
  },
  {
   "cell_type": "code",
   "execution_count": 13,
   "metadata": {},
   "outputs": [
    {
     "data": {
      "image/png": "[encoded data removed]",
      "text/plain": [
       "<Figure size 432x288 with 1 Axes>"
      ]
     },
     "metadata": {
      "needs_background": "light"
     },
     "output_type": "display_data"
    }
   ],
   "source": [
    "plt.hist(AnEn_fit_stn.ravel(), bins=100, log=True, density=True);\n",
    "plt.hist(AnEn_full_stn.ravel(), bins=100, log=True, density=True);"
   ]
  },
  {
   "cell_type": "code",
   "execution_count": 14,
   "metadata": {},
   "outputs": [],
   "source": [
    "cmap_pct, A = gu.precip_cmap()"
   ]
  },
  {
   "cell_type": "code",
   "execution_count": 15,
   "metadata": {},
   "outputs": [
    {
     "data": {
      "image/png": "[encoded data removed]",
      "text/plain": [
       "<Figure size 936x360 with 2 Axes>"
      ]
     },
     "metadata": {
      "needs_background": "light"
     },
     "output_type": "display_data"
    }
   ],
   "source": [
    "plt.figure(figsize=(13, 5))\n",
    "plt.subplot(121)\n",
    "plt.pcolormesh(AnEn_full[16, 3, ...], vmin=0, vmax=10, cmap=cmap_pct)\n",
    "plt.title(\"A shuffled AnEn member (i.e., trajectory)\", fontsize=14)\n",
    "\n",
    "plt.subplot(122)\n",
    "plt.pcolormesh(AnEn_fit[16, 5, ...], vmin=0, vmax=10, cmap=cmap_pct)\n",
    "plt.title(\"The same member cleaned by CNN\", fontsize=14);"
   ]
  },
  {
   "cell_type": "markdown",
   "metadata": {},
   "source": [
    "**Conclusions**\n",
    "\n",
    "* AnEn-CNN is more skill full, provides a better-organised precipitation intensity spectra, and is spatially more realistic."
   ]
  },
  {
   "cell_type": "code",
   "execution_count": null,
   "metadata": {},
   "outputs": [],
   "source": []
  }
 ],
 "metadata": {
  "kernelspec": {
   "display_name": "Python 3",
   "language": "python",
   "name": "python3"
  },
  "language_info": {
   "codemirror_mode": {
    "name": "ipython",
    "version": 3
   },
   "file_extension": ".py",
   "mimetype": "text/x-python",
   "name": "python",
   "nbconvert_exporter": "python",
   "pygments_lexer": "ipython3",
   "version": "3.6.8"
  }
 },
 "nbformat": 4,
 "nbformat_minor": 4
}
